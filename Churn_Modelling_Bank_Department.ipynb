{
  "nbformat": 4,
  "nbformat_minor": 0,
  "metadata": {
    "colab": {
      "name": "Churn Modelling - Bank Department",
      "provenance": [],
      "collapsed_sections": [],
      "toc_visible": true,
      "include_colab_link": true
    },
    "kernelspec": {
      "name": "python3",
      "display_name": "Python 3"
    }
  },
  "cells": [
    {
      "cell_type": "markdown",
      "metadata": {
        "id": "view-in-github",
        "colab_type": "text"
      },
      "source": [
        "<a href=\"https://colab.research.google.com/github/s-majumdar7/DeepLearning/blob/master/Churn_Modelling_Bank_Department.ipynb\" target=\"_parent\"><img src=\"https://colab.research.google.com/assets/colab-badge.svg\" alt=\"Open In Colab\"/></a>"
      ]
    },
    {
      "cell_type": "markdown",
      "metadata": {
        "id": "M27qF7CTrBqc",
        "colab_type": "text"
      },
      "source": [
        "# TASK #1: UNDERSTAND THE PROBLEM STATEMENT AND BUSINESS CASE"
      ]
    },
    {
      "cell_type": "markdown",
      "metadata": {
        "id": "Z2ZMlH-gtOxf",
        "colab_type": "text"
      },
      "source": [
        "\n",
        "<table>\n",
        "  <tr><td>\n",
        "    <img src=\"https://drive.google.com/uc?id=1yJKgmHrRFnBk987HJfeDrMcTEXtk0z7W\"\n",
        "         alt=\"Fashion MNIST sprite\"  width=\"1000\">\n",
        "  </td></tr>\n",
        "  <tr><td align=\"center\">\n",
        "    <b>Figure 1. Employee Retention Prediction\n",
        "  </td></tr>\n",
        "</table>\n"
      ]
    },
    {
      "cell_type": "markdown",
      "metadata": {
        "id": "uAE6Icc0uylP",
        "colab_type": "text"
      },
      "source": [
        "# TASK #2: IMPORT LIBRARIES AND DATASETS"
      ]
    },
    {
      "cell_type": "code",
      "metadata": {
        "id": "YBp2qDPb8pDo",
        "colab_type": "code",
        "colab": {}
      },
      "source": [
        "import pandas as pd\n",
        "import numpy as np\n",
        "import seaborn as sns\n",
        "import matplotlib.pyplot as plt"
      ],
      "execution_count": 6,
      "outputs": []
    },
    {
      "cell_type": "code",
      "metadata": {
        "id": "5P_ciLXawMZg",
        "colab_type": "code",
        "colab": {
          "base_uri": "https://localhost:8080/",
          "height": 54
        },
        "outputId": "fe65b748-b6b9-4dd4-a019-aa363aba59b4"
      },
      "source": [
        "# You will need to mount your drive using the following commands:\n",
        "# For more information regarding mounting, please check this out: https://stackoverflow.com/questions/46986398/import-data-into-google-colaboratory\n",
        "\n",
        "from google.colab import drive\n",
        "drive.mount('/content/drive')"
      ],
      "execution_count": 7,
      "outputs": [
        {
          "output_type": "stream",
          "text": [
            "Drive already mounted at /content/drive; to attempt to forcibly remount, call drive.mount(\"/content/drive\", force_remount=True).\n"
          ],
          "name": "stdout"
        }
      ]
    },
    {
      "cell_type": "code",
      "metadata": {
        "id": "tjIiJdM4u1IE",
        "colab_type": "code",
        "colab": {}
      },
      "source": [
        "# You have to include the full link to the csv file containing your dataset\n",
        "churn_dataset=pd.read_csv('/content/drive/My Drive/Churn_Modelling.csv')"
      ],
      "execution_count": 8,
      "outputs": []
    },
    {
      "cell_type": "code",
      "metadata": {
        "id": "q4_wPDKCu5Uc",
        "colab_type": "code",
        "colab": {
          "base_uri": "https://localhost:8080/",
          "height": 439
        },
        "outputId": "05a0175a-5158-4086-e778-ab5616c96db6"
      },
      "source": [
        "churn_dataset"
      ],
      "execution_count": 9,
      "outputs": [
        {
          "output_type": "execute_result",
          "data": {
            "text/html": [
              "<div>\n",
              "<style scoped>\n",
              "    .dataframe tbody tr th:only-of-type {\n",
              "        vertical-align: middle;\n",
              "    }\n",
              "\n",
              "    .dataframe tbody tr th {\n",
              "        vertical-align: top;\n",
              "    }\n",
              "\n",
              "    .dataframe thead th {\n",
              "        text-align: right;\n",
              "    }\n",
              "</style>\n",
              "<table border=\"1\" class=\"dataframe\">\n",
              "  <thead>\n",
              "    <tr style=\"text-align: right;\">\n",
              "      <th></th>\n",
              "      <th>RowNumber</th>\n",
              "      <th>CustomerId</th>\n",
              "      <th>Surname</th>\n",
              "      <th>CreditScore</th>\n",
              "      <th>Geography</th>\n",
              "      <th>Gender</th>\n",
              "      <th>Age</th>\n",
              "      <th>Tenure</th>\n",
              "      <th>Balance</th>\n",
              "      <th>NumOfProducts</th>\n",
              "      <th>HasCrCard</th>\n",
              "      <th>IsActiveMember</th>\n",
              "      <th>EstimatedSalary</th>\n",
              "      <th>Exited</th>\n",
              "    </tr>\n",
              "  </thead>\n",
              "  <tbody>\n",
              "    <tr>\n",
              "      <th>0</th>\n",
              "      <td>1</td>\n",
              "      <td>15634602</td>\n",
              "      <td>Hargrave</td>\n",
              "      <td>619</td>\n",
              "      <td>France</td>\n",
              "      <td>Female</td>\n",
              "      <td>42</td>\n",
              "      <td>2</td>\n",
              "      <td>0.00</td>\n",
              "      <td>1</td>\n",
              "      <td>1</td>\n",
              "      <td>1</td>\n",
              "      <td>101348.88</td>\n",
              "      <td>1</td>\n",
              "    </tr>\n",
              "    <tr>\n",
              "      <th>1</th>\n",
              "      <td>2</td>\n",
              "      <td>15647311</td>\n",
              "      <td>Hill</td>\n",
              "      <td>608</td>\n",
              "      <td>Spain</td>\n",
              "      <td>Female</td>\n",
              "      <td>41</td>\n",
              "      <td>1</td>\n",
              "      <td>83807.86</td>\n",
              "      <td>1</td>\n",
              "      <td>0</td>\n",
              "      <td>1</td>\n",
              "      <td>112542.58</td>\n",
              "      <td>0</td>\n",
              "    </tr>\n",
              "    <tr>\n",
              "      <th>2</th>\n",
              "      <td>3</td>\n",
              "      <td>15619304</td>\n",
              "      <td>Onio</td>\n",
              "      <td>502</td>\n",
              "      <td>France</td>\n",
              "      <td>Female</td>\n",
              "      <td>42</td>\n",
              "      <td>8</td>\n",
              "      <td>159660.80</td>\n",
              "      <td>3</td>\n",
              "      <td>1</td>\n",
              "      <td>0</td>\n",
              "      <td>113931.57</td>\n",
              "      <td>1</td>\n",
              "    </tr>\n",
              "    <tr>\n",
              "      <th>3</th>\n",
              "      <td>4</td>\n",
              "      <td>15701354</td>\n",
              "      <td>Boni</td>\n",
              "      <td>699</td>\n",
              "      <td>France</td>\n",
              "      <td>Female</td>\n",
              "      <td>39</td>\n",
              "      <td>1</td>\n",
              "      <td>0.00</td>\n",
              "      <td>2</td>\n",
              "      <td>0</td>\n",
              "      <td>0</td>\n",
              "      <td>93826.63</td>\n",
              "      <td>0</td>\n",
              "    </tr>\n",
              "    <tr>\n",
              "      <th>4</th>\n",
              "      <td>5</td>\n",
              "      <td>15737888</td>\n",
              "      <td>Mitchell</td>\n",
              "      <td>850</td>\n",
              "      <td>Spain</td>\n",
              "      <td>Female</td>\n",
              "      <td>43</td>\n",
              "      <td>2</td>\n",
              "      <td>125510.82</td>\n",
              "      <td>1</td>\n",
              "      <td>1</td>\n",
              "      <td>1</td>\n",
              "      <td>79084.10</td>\n",
              "      <td>0</td>\n",
              "    </tr>\n",
              "    <tr>\n",
              "      <th>...</th>\n",
              "      <td>...</td>\n",
              "      <td>...</td>\n",
              "      <td>...</td>\n",
              "      <td>...</td>\n",
              "      <td>...</td>\n",
              "      <td>...</td>\n",
              "      <td>...</td>\n",
              "      <td>...</td>\n",
              "      <td>...</td>\n",
              "      <td>...</td>\n",
              "      <td>...</td>\n",
              "      <td>...</td>\n",
              "      <td>...</td>\n",
              "      <td>...</td>\n",
              "    </tr>\n",
              "    <tr>\n",
              "      <th>9995</th>\n",
              "      <td>9996</td>\n",
              "      <td>15606229</td>\n",
              "      <td>Obijiaku</td>\n",
              "      <td>771</td>\n",
              "      <td>France</td>\n",
              "      <td>Male</td>\n",
              "      <td>39</td>\n",
              "      <td>5</td>\n",
              "      <td>0.00</td>\n",
              "      <td>2</td>\n",
              "      <td>1</td>\n",
              "      <td>0</td>\n",
              "      <td>96270.64</td>\n",
              "      <td>0</td>\n",
              "    </tr>\n",
              "    <tr>\n",
              "      <th>9996</th>\n",
              "      <td>9997</td>\n",
              "      <td>15569892</td>\n",
              "      <td>Johnstone</td>\n",
              "      <td>516</td>\n",
              "      <td>France</td>\n",
              "      <td>Male</td>\n",
              "      <td>35</td>\n",
              "      <td>10</td>\n",
              "      <td>57369.61</td>\n",
              "      <td>1</td>\n",
              "      <td>1</td>\n",
              "      <td>1</td>\n",
              "      <td>101699.77</td>\n",
              "      <td>0</td>\n",
              "    </tr>\n",
              "    <tr>\n",
              "      <th>9997</th>\n",
              "      <td>9998</td>\n",
              "      <td>15584532</td>\n",
              "      <td>Liu</td>\n",
              "      <td>709</td>\n",
              "      <td>France</td>\n",
              "      <td>Female</td>\n",
              "      <td>36</td>\n",
              "      <td>7</td>\n",
              "      <td>0.00</td>\n",
              "      <td>1</td>\n",
              "      <td>0</td>\n",
              "      <td>1</td>\n",
              "      <td>42085.58</td>\n",
              "      <td>1</td>\n",
              "    </tr>\n",
              "    <tr>\n",
              "      <th>9998</th>\n",
              "      <td>9999</td>\n",
              "      <td>15682355</td>\n",
              "      <td>Sabbatini</td>\n",
              "      <td>772</td>\n",
              "      <td>Germany</td>\n",
              "      <td>Male</td>\n",
              "      <td>42</td>\n",
              "      <td>3</td>\n",
              "      <td>75075.31</td>\n",
              "      <td>2</td>\n",
              "      <td>1</td>\n",
              "      <td>0</td>\n",
              "      <td>92888.52</td>\n",
              "      <td>1</td>\n",
              "    </tr>\n",
              "    <tr>\n",
              "      <th>9999</th>\n",
              "      <td>10000</td>\n",
              "      <td>15628319</td>\n",
              "      <td>Walker</td>\n",
              "      <td>792</td>\n",
              "      <td>France</td>\n",
              "      <td>Female</td>\n",
              "      <td>28</td>\n",
              "      <td>4</td>\n",
              "      <td>130142.79</td>\n",
              "      <td>1</td>\n",
              "      <td>1</td>\n",
              "      <td>0</td>\n",
              "      <td>38190.78</td>\n",
              "      <td>0</td>\n",
              "    </tr>\n",
              "  </tbody>\n",
              "</table>\n",
              "<p>10000 rows × 14 columns</p>\n",
              "</div>"
            ],
            "text/plain": [
              "      RowNumber  CustomerId    Surname  ...  IsActiveMember EstimatedSalary Exited\n",
              "0             1    15634602   Hargrave  ...               1       101348.88      1\n",
              "1             2    15647311       Hill  ...               1       112542.58      0\n",
              "2             3    15619304       Onio  ...               0       113931.57      1\n",
              "3             4    15701354       Boni  ...               0        93826.63      0\n",
              "4             5    15737888   Mitchell  ...               1        79084.10      0\n",
              "...         ...         ...        ...  ...             ...             ...    ...\n",
              "9995       9996    15606229   Obijiaku  ...               0        96270.64      0\n",
              "9996       9997    15569892  Johnstone  ...               1       101699.77      0\n",
              "9997       9998    15584532        Liu  ...               1        42085.58      1\n",
              "9998       9999    15682355  Sabbatini  ...               0        92888.52      1\n",
              "9999      10000    15628319     Walker  ...               0        38190.78      0\n",
              "\n",
              "[10000 rows x 14 columns]"
            ]
          },
          "metadata": {
            "tags": []
          },
          "execution_count": 9
        }
      ]
    },
    {
      "cell_type": "code",
      "metadata": {
        "id": "E7puy9-xxS4A",
        "colab_type": "code",
        "colab": {
          "base_uri": "https://localhost:8080/",
          "height": 317
        },
        "outputId": "5e6fbd3f-63fb-43c0-cf2c-fd56eeb47bd8"
      },
      "source": [
        "churn_dataset.describe()"
      ],
      "execution_count": 10,
      "outputs": [
        {
          "output_type": "execute_result",
          "data": {
            "text/html": [
              "<div>\n",
              "<style scoped>\n",
              "    .dataframe tbody tr th:only-of-type {\n",
              "        vertical-align: middle;\n",
              "    }\n",
              "\n",
              "    .dataframe tbody tr th {\n",
              "        vertical-align: top;\n",
              "    }\n",
              "\n",
              "    .dataframe thead th {\n",
              "        text-align: right;\n",
              "    }\n",
              "</style>\n",
              "<table border=\"1\" class=\"dataframe\">\n",
              "  <thead>\n",
              "    <tr style=\"text-align: right;\">\n",
              "      <th></th>\n",
              "      <th>RowNumber</th>\n",
              "      <th>CustomerId</th>\n",
              "      <th>CreditScore</th>\n",
              "      <th>Age</th>\n",
              "      <th>Tenure</th>\n",
              "      <th>Balance</th>\n",
              "      <th>NumOfProducts</th>\n",
              "      <th>HasCrCard</th>\n",
              "      <th>IsActiveMember</th>\n",
              "      <th>EstimatedSalary</th>\n",
              "      <th>Exited</th>\n",
              "    </tr>\n",
              "  </thead>\n",
              "  <tbody>\n",
              "    <tr>\n",
              "      <th>count</th>\n",
              "      <td>10000.00000</td>\n",
              "      <td>1.000000e+04</td>\n",
              "      <td>10000.000000</td>\n",
              "      <td>10000.000000</td>\n",
              "      <td>10000.000000</td>\n",
              "      <td>10000.000000</td>\n",
              "      <td>10000.000000</td>\n",
              "      <td>10000.00000</td>\n",
              "      <td>10000.000000</td>\n",
              "      <td>10000.000000</td>\n",
              "      <td>10000.000000</td>\n",
              "    </tr>\n",
              "    <tr>\n",
              "      <th>mean</th>\n",
              "      <td>5000.50000</td>\n",
              "      <td>1.569094e+07</td>\n",
              "      <td>650.528800</td>\n",
              "      <td>38.921800</td>\n",
              "      <td>5.012800</td>\n",
              "      <td>76485.889288</td>\n",
              "      <td>1.530200</td>\n",
              "      <td>0.70550</td>\n",
              "      <td>0.515100</td>\n",
              "      <td>100090.239881</td>\n",
              "      <td>0.203700</td>\n",
              "    </tr>\n",
              "    <tr>\n",
              "      <th>std</th>\n",
              "      <td>2886.89568</td>\n",
              "      <td>7.193619e+04</td>\n",
              "      <td>96.653299</td>\n",
              "      <td>10.487806</td>\n",
              "      <td>2.892174</td>\n",
              "      <td>62397.405202</td>\n",
              "      <td>0.581654</td>\n",
              "      <td>0.45584</td>\n",
              "      <td>0.499797</td>\n",
              "      <td>57510.492818</td>\n",
              "      <td>0.402769</td>\n",
              "    </tr>\n",
              "    <tr>\n",
              "      <th>min</th>\n",
              "      <td>1.00000</td>\n",
              "      <td>1.556570e+07</td>\n",
              "      <td>350.000000</td>\n",
              "      <td>18.000000</td>\n",
              "      <td>0.000000</td>\n",
              "      <td>0.000000</td>\n",
              "      <td>1.000000</td>\n",
              "      <td>0.00000</td>\n",
              "      <td>0.000000</td>\n",
              "      <td>11.580000</td>\n",
              "      <td>0.000000</td>\n",
              "    </tr>\n",
              "    <tr>\n",
              "      <th>25%</th>\n",
              "      <td>2500.75000</td>\n",
              "      <td>1.562853e+07</td>\n",
              "      <td>584.000000</td>\n",
              "      <td>32.000000</td>\n",
              "      <td>3.000000</td>\n",
              "      <td>0.000000</td>\n",
              "      <td>1.000000</td>\n",
              "      <td>0.00000</td>\n",
              "      <td>0.000000</td>\n",
              "      <td>51002.110000</td>\n",
              "      <td>0.000000</td>\n",
              "    </tr>\n",
              "    <tr>\n",
              "      <th>50%</th>\n",
              "      <td>5000.50000</td>\n",
              "      <td>1.569074e+07</td>\n",
              "      <td>652.000000</td>\n",
              "      <td>37.000000</td>\n",
              "      <td>5.000000</td>\n",
              "      <td>97198.540000</td>\n",
              "      <td>1.000000</td>\n",
              "      <td>1.00000</td>\n",
              "      <td>1.000000</td>\n",
              "      <td>100193.915000</td>\n",
              "      <td>0.000000</td>\n",
              "    </tr>\n",
              "    <tr>\n",
              "      <th>75%</th>\n",
              "      <td>7500.25000</td>\n",
              "      <td>1.575323e+07</td>\n",
              "      <td>718.000000</td>\n",
              "      <td>44.000000</td>\n",
              "      <td>7.000000</td>\n",
              "      <td>127644.240000</td>\n",
              "      <td>2.000000</td>\n",
              "      <td>1.00000</td>\n",
              "      <td>1.000000</td>\n",
              "      <td>149388.247500</td>\n",
              "      <td>0.000000</td>\n",
              "    </tr>\n",
              "    <tr>\n",
              "      <th>max</th>\n",
              "      <td>10000.00000</td>\n",
              "      <td>1.581569e+07</td>\n",
              "      <td>850.000000</td>\n",
              "      <td>92.000000</td>\n",
              "      <td>10.000000</td>\n",
              "      <td>250898.090000</td>\n",
              "      <td>4.000000</td>\n",
              "      <td>1.00000</td>\n",
              "      <td>1.000000</td>\n",
              "      <td>199992.480000</td>\n",
              "      <td>1.000000</td>\n",
              "    </tr>\n",
              "  </tbody>\n",
              "</table>\n",
              "</div>"
            ],
            "text/plain": [
              "         RowNumber    CustomerId  ...  EstimatedSalary        Exited\n",
              "count  10000.00000  1.000000e+04  ...     10000.000000  10000.000000\n",
              "mean    5000.50000  1.569094e+07  ...    100090.239881      0.203700\n",
              "std     2886.89568  7.193619e+04  ...     57510.492818      0.402769\n",
              "min        1.00000  1.556570e+07  ...        11.580000      0.000000\n",
              "25%     2500.75000  1.562853e+07  ...     51002.110000      0.000000\n",
              "50%     5000.50000  1.569074e+07  ...    100193.915000      0.000000\n",
              "75%     7500.25000  1.575323e+07  ...    149388.247500      0.000000\n",
              "max    10000.00000  1.581569e+07  ...    199992.480000      1.000000\n",
              "\n",
              "[8 rows x 11 columns]"
            ]
          },
          "metadata": {
            "tags": []
          },
          "execution_count": 10
        }
      ]
    },
    {
      "cell_type": "code",
      "metadata": {
        "id": "RUt2ON_UxyYk",
        "colab_type": "code",
        "colab": {
          "base_uri": "https://localhost:8080/",
          "height": 374
        },
        "outputId": "a08a5f3f-2407-4d01-8749-d20d564629fa"
      },
      "source": [
        "churn_dataset.info()"
      ],
      "execution_count": 11,
      "outputs": [
        {
          "output_type": "stream",
          "text": [
            "<class 'pandas.core.frame.DataFrame'>\n",
            "RangeIndex: 10000 entries, 0 to 9999\n",
            "Data columns (total 14 columns):\n",
            " #   Column           Non-Null Count  Dtype  \n",
            "---  ------           --------------  -----  \n",
            " 0   RowNumber        10000 non-null  int64  \n",
            " 1   CustomerId       10000 non-null  int64  \n",
            " 2   Surname          10000 non-null  object \n",
            " 3   CreditScore      10000 non-null  int64  \n",
            " 4   Geography        10000 non-null  object \n",
            " 5   Gender           10000 non-null  object \n",
            " 6   Age              10000 non-null  int64  \n",
            " 7   Tenure           10000 non-null  int64  \n",
            " 8   Balance          10000 non-null  float64\n",
            " 9   NumOfProducts    10000 non-null  int64  \n",
            " 10  HasCrCard        10000 non-null  int64  \n",
            " 11  IsActiveMember   10000 non-null  int64  \n",
            " 12  EstimatedSalary  10000 non-null  float64\n",
            " 13  Exited           10000 non-null  int64  \n",
            "dtypes: float64(2), int64(9), object(3)\n",
            "memory usage: 1.1+ MB\n"
          ],
          "name": "stdout"
        }
      ]
    },
    {
      "cell_type": "markdown",
      "metadata": {
        "id": "LlszUhNNyrl_",
        "colab_type": "text"
      },
      "source": [
        "# TASK #3: VISUALIZE DATASET"
      ]
    },
    {
      "cell_type": "code",
      "metadata": {
        "id": "ICj3NLbqqmve",
        "colab_type": "code",
        "colab": {
          "base_uri": "https://localhost:8080/",
          "height": 272
        },
        "outputId": "de235b1b-b8d9-47f4-b2db-542da354d96f"
      },
      "source": [
        "# Let's see if we have any missing data, luckily we don't!\n",
        "churn_dataset.isnull().sum()"
      ],
      "execution_count": 12,
      "outputs": [
        {
          "output_type": "execute_result",
          "data": {
            "text/plain": [
              "RowNumber          0\n",
              "CustomerId         0\n",
              "Surname            0\n",
              "CreditScore        0\n",
              "Geography          0\n",
              "Gender             0\n",
              "Age                0\n",
              "Tenure             0\n",
              "Balance            0\n",
              "NumOfProducts      0\n",
              "HasCrCard          0\n",
              "IsActiveMember     0\n",
              "EstimatedSalary    0\n",
              "Exited             0\n",
              "dtype: int64"
            ]
          },
          "metadata": {
            "tags": []
          },
          "execution_count": 12
        }
      ]
    },
    {
      "cell_type": "code",
      "metadata": {
        "id": "co7rRaNxKX-t",
        "colab_type": "code",
        "colab": {}
      },
      "source": [
        "#RowNumber, CustomerId and Surname are not required\n",
        "churn_dataset.drop(['RowNumber', 'CustomerId', 'Surname'],axis=1,inplace=True)"
      ],
      "execution_count": 13,
      "outputs": []
    },
    {
      "cell_type": "code",
      "metadata": {
        "id": "BfDQRuNj4_b8",
        "colab_type": "code",
        "colab": {
          "base_uri": "https://localhost:8080/",
          "height": 34
        },
        "outputId": "353bc2f2-95b4-4866-8e24-df710f763897"
      },
      "source": [
        "#To know the count of distinct categories within the feature \n",
        "churn_dataset['Geography'].value_counts().count()"
      ],
      "execution_count": 14,
      "outputs": [
        {
          "output_type": "execute_result",
          "data": {
            "text/plain": [
              "3"
            ]
          },
          "metadata": {
            "tags": []
          },
          "execution_count": 14
        }
      ]
    },
    {
      "cell_type": "code",
      "metadata": {
        "id": "XJ2ZsVW4wysH",
        "colab_type": "code",
        "colab": {
          "base_uri": "https://localhost:8080/",
          "height": 34
        },
        "outputId": "24f71d73-73cc-49d0-8436-73192395b75d"
      },
      "source": [
        "churn_dataset['Gender'].value_counts().count()"
      ],
      "execution_count": 15,
      "outputs": [
        {
          "output_type": "execute_result",
          "data": {
            "text/plain": [
              "2"
            ]
          },
          "metadata": {
            "tags": []
          },
          "execution_count": 15
        }
      ]
    },
    {
      "cell_type": "code",
      "metadata": {
        "id": "-5qvu70o5oAI",
        "colab_type": "code",
        "colab": {
          "base_uri": "https://localhost:8080/",
          "height": 85
        },
        "outputId": "1e3665ae-435e-4464-eb28-a1c1827077b5"
      },
      "source": [
        "#Visualising categorical data to see distribution\n",
        "country_count=churn_dataset['Geography'].value_counts()\n",
        "print(country_count)"
      ],
      "execution_count": 16,
      "outputs": [
        {
          "output_type": "stream",
          "text": [
            "France     5014\n",
            "Germany    2509\n",
            "Spain      2477\n",
            "Name: Geography, dtype: int64\n"
          ],
          "name": "stdout"
        }
      ]
    },
    {
      "cell_type": "code",
      "metadata": {
        "id": "KdN_vGYrw525",
        "colab_type": "code",
        "colab": {
          "base_uri": "https://localhost:8080/",
          "height": 68
        },
        "outputId": "afd60528-b164-42e4-ecd0-de7934548b65"
      },
      "source": [
        "gender_count=churn_dataset['Gender'].value_counts()\n",
        "print(gender_count)"
      ],
      "execution_count": 17,
      "outputs": [
        {
          "output_type": "stream",
          "text": [
            "Male      5457\n",
            "Female    4543\n",
            "Name: Gender, dtype: int64\n"
          ],
          "name": "stdout"
        }
      ]
    },
    {
      "cell_type": "code",
      "metadata": {
        "id": "B5SXd3txxv7V",
        "colab_type": "code",
        "colab": {
          "base_uri": "https://localhost:8080/",
          "height": 301
        },
        "outputId": "6b67e6b5-9ae4-44db-978e-a66f8346ec6b"
      },
      "source": [
        "sns.set(style='darkgrid')\n",
        "sns.barplot(country_count.index, country_count.values, alpha=0.9)\n",
        "plt.title('Frequency Distribution of Country')\n",
        "plt.ylabel('Number of Occurrences', fontsize=12)\n",
        "plt.xlabel('Country', fontsize=12)\n",
        "plt.show()"
      ],
      "execution_count": 18,
      "outputs": [
        {
          "output_type": "display_data",
          "data": {
            "image/png": "[encoded data removed]",
            "text/plain": [
              "<Figure size 432x288 with 1 Axes>"
            ]
          },
          "metadata": {
            "tags": []
          }
        }
      ]
    },
    {
      "cell_type": "code",
      "metadata": {
        "id": "DVq0QGvBDL2p",
        "colab_type": "code",
        "colab": {
          "base_uri": "https://localhost:8080/",
          "height": 252
        },
        "outputId": "464835b7-a2e0-458b-e85f-10779c8f8261"
      },
      "source": [
        "labels = churn_dataset['Gender'].astype('category').cat.categories.tolist()\n",
        "sizes = [gender_count[var_cat] for var_cat in labels]\n",
        "fig1, ax1 = plt.subplots()\n",
        "ax1.pie(sizes, labels=labels, autopct='%1.1f%%', shadow=True) #autopct is show the % on plot\n",
        "ax1.axis('equal')\n",
        "plt.show()"
      ],
      "execution_count": 19,
      "outputs": [
        {
          "output_type": "display_data",
          "data": {
            "image/png": "[encoded data removed]",
            "text/plain": [
              "<Figure size 432x288 with 1 Axes>"
            ]
          },
          "metadata": {
            "tags": []
          }
        }
      ]
    },
    {
      "cell_type": "code",
      "metadata": {
        "id": "36xhvCDiMTIQ",
        "colab_type": "code",
        "colab": {}
      },
      "source": [
        "# Count the number of customers who stayed and left\n",
        "# It seems that we are dealing with an imbalanced dataset \n",
        "stayed_df=churn_dataset[churn_dataset['Exited']==0]\n",
        "left_df=churn_dataset[churn_dataset['Exited']==1]"
      ],
      "execution_count": 20,
      "outputs": []
    },
    {
      "cell_type": "code",
      "metadata": {
        "id": "J3VSp0EhMYSR",
        "colab_type": "code",
        "colab": {
          "base_uri": "https://localhost:8080/",
          "height": 317
        },
        "outputId": "efd20b8c-65da-4c48-d6ef-82c172bef1a8"
      },
      "source": [
        "churn_dataset.describe()"
      ],
      "execution_count": 21,
      "outputs": [
        {
          "output_type": "execute_result",
          "data": {
            "text/html": [
              "<div>\n",
              "<style scoped>\n",
              "    .dataframe tbody tr th:only-of-type {\n",
              "        vertical-align: middle;\n",
              "    }\n",
              "\n",
              "    .dataframe tbody tr th {\n",
              "        vertical-align: top;\n",
              "    }\n",
              "\n",
              "    .dataframe thead th {\n",
              "        text-align: right;\n",
              "    }\n",
              "</style>\n",
              "<table border=\"1\" class=\"dataframe\">\n",
              "  <thead>\n",
              "    <tr style=\"text-align: right;\">\n",
              "      <th></th>\n",
              "      <th>CreditScore</th>\n",
              "      <th>Age</th>\n",
              "      <th>Tenure</th>\n",
              "      <th>Balance</th>\n",
              "      <th>NumOfProducts</th>\n",
              "      <th>HasCrCard</th>\n",
              "      <th>IsActiveMember</th>\n",
              "      <th>EstimatedSalary</th>\n",
              "      <th>Exited</th>\n",
              "    </tr>\n",
              "  </thead>\n",
              "  <tbody>\n",
              "    <tr>\n",
              "      <th>count</th>\n",
              "      <td>10000.000000</td>\n",
              "      <td>10000.000000</td>\n",
              "      <td>10000.000000</td>\n",
              "      <td>10000.000000</td>\n",
              "      <td>10000.000000</td>\n",
              "      <td>10000.00000</td>\n",
              "      <td>10000.000000</td>\n",
              "      <td>10000.000000</td>\n",
              "      <td>10000.000000</td>\n",
              "    </tr>\n",
              "    <tr>\n",
              "      <th>mean</th>\n",
              "      <td>650.528800</td>\n",
              "      <td>38.921800</td>\n",
              "      <td>5.012800</td>\n",
              "      <td>76485.889288</td>\n",
              "      <td>1.530200</td>\n",
              "      <td>0.70550</td>\n",
              "      <td>0.515100</td>\n",
              "      <td>100090.239881</td>\n",
              "      <td>0.203700</td>\n",
              "    </tr>\n",
              "    <tr>\n",
              "      <th>std</th>\n",
              "      <td>96.653299</td>\n",
              "      <td>10.487806</td>\n",
              "      <td>2.892174</td>\n",
              "      <td>62397.405202</td>\n",
              "      <td>0.581654</td>\n",
              "      <td>0.45584</td>\n",
              "      <td>0.499797</td>\n",
              "      <td>57510.492818</td>\n",
              "      <td>0.402769</td>\n",
              "    </tr>\n",
              "    <tr>\n",
              "      <th>min</th>\n",
              "      <td>350.000000</td>\n",
              "      <td>18.000000</td>\n",
              "      <td>0.000000</td>\n",
              "      <td>0.000000</td>\n",
              "      <td>1.000000</td>\n",
              "      <td>0.00000</td>\n",
              "      <td>0.000000</td>\n",
              "      <td>11.580000</td>\n",
              "      <td>0.000000</td>\n",
              "    </tr>\n",
              "    <tr>\n",
              "      <th>25%</th>\n",
              "      <td>584.000000</td>\n",
              "      <td>32.000000</td>\n",
              "      <td>3.000000</td>\n",
              "      <td>0.000000</td>\n",
              "      <td>1.000000</td>\n",
              "      <td>0.00000</td>\n",
              "      <td>0.000000</td>\n",
              "      <td>51002.110000</td>\n",
              "      <td>0.000000</td>\n",
              "    </tr>\n",
              "    <tr>\n",
              "      <th>50%</th>\n",
              "      <td>652.000000</td>\n",
              "      <td>37.000000</td>\n",
              "      <td>5.000000</td>\n",
              "      <td>97198.540000</td>\n",
              "      <td>1.000000</td>\n",
              "      <td>1.00000</td>\n",
              "      <td>1.000000</td>\n",
              "      <td>100193.915000</td>\n",
              "      <td>0.000000</td>\n",
              "    </tr>\n",
              "    <tr>\n",
              "      <th>75%</th>\n",
              "      <td>718.000000</td>\n",
              "      <td>44.000000</td>\n",
              "      <td>7.000000</td>\n",
              "      <td>127644.240000</td>\n",
              "      <td>2.000000</td>\n",
              "      <td>1.00000</td>\n",
              "      <td>1.000000</td>\n",
              "      <td>149388.247500</td>\n",
              "      <td>0.000000</td>\n",
              "    </tr>\n",
              "    <tr>\n",
              "      <th>max</th>\n",
              "      <td>850.000000</td>\n",
              "      <td>92.000000</td>\n",
              "      <td>10.000000</td>\n",
              "      <td>250898.090000</td>\n",
              "      <td>4.000000</td>\n",
              "      <td>1.00000</td>\n",
              "      <td>1.000000</td>\n",
              "      <td>199992.480000</td>\n",
              "      <td>1.000000</td>\n",
              "    </tr>\n",
              "  </tbody>\n",
              "</table>\n",
              "</div>"
            ],
            "text/plain": [
              "        CreditScore           Age  ...  EstimatedSalary        Exited\n",
              "count  10000.000000  10000.000000  ...     10000.000000  10000.000000\n",
              "mean     650.528800     38.921800  ...    100090.239881      0.203700\n",
              "std       96.653299     10.487806  ...     57510.492818      0.402769\n",
              "min      350.000000     18.000000  ...        11.580000      0.000000\n",
              "25%      584.000000     32.000000  ...     51002.110000      0.000000\n",
              "50%      652.000000     37.000000  ...    100193.915000      0.000000\n",
              "75%      718.000000     44.000000  ...    149388.247500      0.000000\n",
              "max      850.000000     92.000000  ...    199992.480000      1.000000\n",
              "\n",
              "[8 rows x 9 columns]"
            ]
          },
          "metadata": {
            "tags": []
          },
          "execution_count": 21
        }
      ]
    },
    {
      "cell_type": "code",
      "metadata": {
        "id": "c6UiAqTkKD85",
        "colab_type": "code",
        "colab": {
          "base_uri": "https://localhost:8080/",
          "height": 1000
        },
        "outputId": "45b20161-462d-46a1-c589-204fb469c205"
      },
      "source": [
        "correlations = churn_dataset.corr()\n",
        "f, ax = plt.subplots(figsize = (20, 20))\n",
        "sns.heatmap(correlations, annot = True)"
      ],
      "execution_count": 22,
      "outputs": [
        {
          "output_type": "execute_result",
          "data": {
            "text/plain": [
              "<matplotlib.axes._subplots.AxesSubplot at 0x7fbd6c43a6d8>"
            ]
          },
          "metadata": {
            "tags": []
          },
          "execution_count": 22
        },
        {
          "output_type": "display_data",
          "data": {
            "image/png": "[encoded data removed]",
            "text/plain": [
              "<Figure size 1440x1440 with 2 Axes>"
            ]
          },
          "metadata": {
            "tags": []
          }
        }
      ]
    },
    {
      "cell_type": "code",
      "metadata": {
        "id": "zBy4m89a08Sj",
        "colab_type": "code",
        "colab": {}
      },
      "source": [
        "# Age is strongly correlated with Exited\n",
        "# Balance is strongly correlated with Exited"
      ],
      "execution_count": 23,
      "outputs": []
    },
    {
      "cell_type": "code",
      "metadata": {
        "id": "btcWqUnfPcxW",
        "colab_type": "code",
        "colab": {
          "base_uri": "https://localhost:8080/",
          "height": 489
        },
        "outputId": "91d399b5-4261-4550-cf71-cbe6ba12a116"
      },
      "source": [
        "plt.figure(figsize=[25, 12])\n",
        "sns.countplot(x = 'Age', hue = 'Exited', data = churn_dataset)"
      ],
      "execution_count": 24,
      "outputs": [
        {
          "output_type": "execute_result",
          "data": {
            "text/plain": [
              "<matplotlib.axes._subplots.AxesSubplot at 0x7fbd68875400>"
            ]
          },
          "metadata": {
            "tags": []
          },
          "execution_count": 24
        },
        {
          "output_type": "display_data",
          "data": {
            "image/png": "[encoded data removed]",
            "text/plain": [
              "<Figure size 1800x864 with 1 Axes>"
            ]
          },
          "metadata": {
            "tags": []
          }
        }
      ]
    },
    {
      "cell_type": "code",
      "metadata": {
        "id": "M-jJr-y0NjHM",
        "colab_type": "code",
        "colab": {
          "base_uri": "https://localhost:8080/",
          "height": 476
        },
        "outputId": "c896d57b-cc41-48f6-b6f8-5888ae0ac166"
      },
      "source": [
        "plt.figure(figsize=(12,7))\n",
        "\n",
        "sns.kdeplot(left_df['Balance'], label = 'Exited', shade = True, color = 'r')\n",
        "sns.kdeplot(stayed_df['Balance'], label = 'Stayed', shade = True, color = 'b')\n",
        "\n",
        "plt.xlabel('Balance')"
      ],
      "execution_count": 25,
      "outputs": [
        {
          "output_type": "execute_result",
          "data": {
            "text/plain": [
              "Text(0.5, 0, 'Balance')"
            ]
          },
          "metadata": {
            "tags": []
          },
          "execution_count": 25
        },
        {
          "output_type": "display_data",
          "data": {
            "image/png": "[encoded data removed]",
            "text/plain": [
              "<Figure size 864x504 with 1 Axes>"
            ]
          },
          "metadata": {
            "tags": []
          }
        }
      ]
    },
    {
      "cell_type": "markdown",
      "metadata": {
        "id": "MofXsauLx-k4",
        "colab_type": "text"
      },
      "source": [
        "## Encoding Categorical Values\n"
      ]
    },
    {
      "cell_type": "code",
      "metadata": {
        "colab_type": "code",
        "id": "jpJtiorsjgfI",
        "colab": {}
      },
      "source": [
        "from sklearn.preprocessing import LabelEncoder\n",
        "lencoder=LabelEncoder()\n",
        "churn_dataset['Gender']=lencoder.fit_transform(churn_dataset['Gender'])"
      ],
      "execution_count": 26,
      "outputs": []
    },
    {
      "cell_type": "code",
      "metadata": {
        "id": "gzAo8L5ybDs7",
        "colab_type": "code",
        "colab": {
          "base_uri": "https://localhost:8080/",
          "height": 439
        },
        "outputId": "2f5ae95e-7444-466a-a1d8-d6ba34da21b3"
      },
      "source": [
        "churn_dataset"
      ],
      "execution_count": 27,
      "outputs": [
        {
          "output_type": "execute_result",
          "data": {
            "text/html": [
              "<div>\n",
              "<style scoped>\n",
              "    .dataframe tbody tr th:only-of-type {\n",
              "        vertical-align: middle;\n",
              "    }\n",
              "\n",
              "    .dataframe tbody tr th {\n",
              "        vertical-align: top;\n",
              "    }\n",
              "\n",
              "    .dataframe thead th {\n",
              "        text-align: right;\n",
              "    }\n",
              "</style>\n",
              "<table border=\"1\" class=\"dataframe\">\n",
              "  <thead>\n",
              "    <tr style=\"text-align: right;\">\n",
              "      <th></th>\n",
              "      <th>CreditScore</th>\n",
              "      <th>Geography</th>\n",
              "      <th>Gender</th>\n",
              "      <th>Age</th>\n",
              "      <th>Tenure</th>\n",
              "      <th>Balance</th>\n",
              "      <th>NumOfProducts</th>\n",
              "      <th>HasCrCard</th>\n",
              "      <th>IsActiveMember</th>\n",
              "      <th>EstimatedSalary</th>\n",
              "      <th>Exited</th>\n",
              "    </tr>\n",
              "  </thead>\n",
              "  <tbody>\n",
              "    <tr>\n",
              "      <th>0</th>\n",
              "      <td>619</td>\n",
              "      <td>France</td>\n",
              "      <td>0</td>\n",
              "      <td>42</td>\n",
              "      <td>2</td>\n",
              "      <td>0.00</td>\n",
              "      <td>1</td>\n",
              "      <td>1</td>\n",
              "      <td>1</td>\n",
              "      <td>101348.88</td>\n",
              "      <td>1</td>\n",
              "    </tr>\n",
              "    <tr>\n",
              "      <th>1</th>\n",
              "      <td>608</td>\n",
              "      <td>Spain</td>\n",
              "      <td>0</td>\n",
              "      <td>41</td>\n",
              "      <td>1</td>\n",
              "      <td>83807.86</td>\n",
              "      <td>1</td>\n",
              "      <td>0</td>\n",
              "      <td>1</td>\n",
              "      <td>112542.58</td>\n",
              "      <td>0</td>\n",
              "    </tr>\n",
              "    <tr>\n",
              "      <th>2</th>\n",
              "      <td>502</td>\n",
              "      <td>France</td>\n",
              "      <td>0</td>\n",
              "      <td>42</td>\n",
              "      <td>8</td>\n",
              "      <td>159660.80</td>\n",
              "      <td>3</td>\n",
              "      <td>1</td>\n",
              "      <td>0</td>\n",
              "      <td>113931.57</td>\n",
              "      <td>1</td>\n",
              "    </tr>\n",
              "    <tr>\n",
              "      <th>3</th>\n",
              "      <td>699</td>\n",
              "      <td>France</td>\n",
              "      <td>0</td>\n",
              "      <td>39</td>\n",
              "      <td>1</td>\n",
              "      <td>0.00</td>\n",
              "      <td>2</td>\n",
              "      <td>0</td>\n",
              "      <td>0</td>\n",
              "      <td>93826.63</td>\n",
              "      <td>0</td>\n",
              "    </tr>\n",
              "    <tr>\n",
              "      <th>4</th>\n",
              "      <td>850</td>\n",
              "      <td>Spain</td>\n",
              "      <td>0</td>\n",
              "      <td>43</td>\n",
              "      <td>2</td>\n",
              "      <td>125510.82</td>\n",
              "      <td>1</td>\n",
              "      <td>1</td>\n",
              "      <td>1</td>\n",
              "      <td>79084.10</td>\n",
              "      <td>0</td>\n",
              "    </tr>\n",
              "    <tr>\n",
              "      <th>...</th>\n",
              "      <td>...</td>\n",
              "      <td>...</td>\n",
              "      <td>...</td>\n",
              "      <td>...</td>\n",
              "      <td>...</td>\n",
              "      <td>...</td>\n",
              "      <td>...</td>\n",
              "      <td>...</td>\n",
              "      <td>...</td>\n",
              "      <td>...</td>\n",
              "      <td>...</td>\n",
              "    </tr>\n",
              "    <tr>\n",
              "      <th>9995</th>\n",
              "      <td>771</td>\n",
              "      <td>France</td>\n",
              "      <td>1</td>\n",
              "      <td>39</td>\n",
              "      <td>5</td>\n",
              "      <td>0.00</td>\n",
              "      <td>2</td>\n",
              "      <td>1</td>\n",
              "      <td>0</td>\n",
              "      <td>96270.64</td>\n",
              "      <td>0</td>\n",
              "    </tr>\n",
              "    <tr>\n",
              "      <th>9996</th>\n",
              "      <td>516</td>\n",
              "      <td>France</td>\n",
              "      <td>1</td>\n",
              "      <td>35</td>\n",
              "      <td>10</td>\n",
              "      <td>57369.61</td>\n",
              "      <td>1</td>\n",
              "      <td>1</td>\n",
              "      <td>1</td>\n",
              "      <td>101699.77</td>\n",
              "      <td>0</td>\n",
              "    </tr>\n",
              "    <tr>\n",
              "      <th>9997</th>\n",
              "      <td>709</td>\n",
              "      <td>France</td>\n",
              "      <td>0</td>\n",
              "      <td>36</td>\n",
              "      <td>7</td>\n",
              "      <td>0.00</td>\n",
              "      <td>1</td>\n",
              "      <td>0</td>\n",
              "      <td>1</td>\n",
              "      <td>42085.58</td>\n",
              "      <td>1</td>\n",
              "    </tr>\n",
              "    <tr>\n",
              "      <th>9998</th>\n",
              "      <td>772</td>\n",
              "      <td>Germany</td>\n",
              "      <td>1</td>\n",
              "      <td>42</td>\n",
              "      <td>3</td>\n",
              "      <td>75075.31</td>\n",
              "      <td>2</td>\n",
              "      <td>1</td>\n",
              "      <td>0</td>\n",
              "      <td>92888.52</td>\n",
              "      <td>1</td>\n",
              "    </tr>\n",
              "    <tr>\n",
              "      <th>9999</th>\n",
              "      <td>792</td>\n",
              "      <td>France</td>\n",
              "      <td>0</td>\n",
              "      <td>28</td>\n",
              "      <td>4</td>\n",
              "      <td>130142.79</td>\n",
              "      <td>1</td>\n",
              "      <td>1</td>\n",
              "      <td>0</td>\n",
              "      <td>38190.78</td>\n",
              "      <td>0</td>\n",
              "    </tr>\n",
              "  </tbody>\n",
              "</table>\n",
              "<p>10000 rows × 11 columns</p>\n",
              "</div>"
            ],
            "text/plain": [
              "      CreditScore Geography  Gender  ...  IsActiveMember  EstimatedSalary  Exited\n",
              "0             619    France       0  ...               1        101348.88       1\n",
              "1             608     Spain       0  ...               1        112542.58       0\n",
              "2             502    France       0  ...               0        113931.57       1\n",
              "3             699    France       0  ...               0         93826.63       0\n",
              "4             850     Spain       0  ...               1         79084.10       0\n",
              "...           ...       ...     ...  ...             ...              ...     ...\n",
              "9995          771    France       1  ...               0         96270.64       0\n",
              "9996          516    France       1  ...               1        101699.77       0\n",
              "9997          709    France       0  ...               1         42085.58       1\n",
              "9998          772   Germany       1  ...               0         92888.52       1\n",
              "9999          792    France       0  ...               0         38190.78       0\n",
              "\n",
              "[10000 rows x 11 columns]"
            ]
          },
          "metadata": {
            "tags": []
          },
          "execution_count": 27
        }
      ]
    },
    {
      "cell_type": "code",
      "metadata": {
        "id": "U0cw6asrgZFh",
        "colab_type": "code",
        "colab": {
          "base_uri": "https://localhost:8080/",
          "height": 153
        },
        "outputId": "0ea89031-bc0a-4cef-dc00-8780b9e02044"
      },
      "source": [
        "churn_dataset = pd.get_dummies(churn_dataset, columns=['Geography'])\n",
        "print(churn_dataset.head())"
      ],
      "execution_count": 28,
      "outputs": [
        {
          "output_type": "stream",
          "text": [
            "   CreditScore  Gender  ...  Geography_Germany  Geography_Spain\n",
            "0          619       0  ...                  0                0\n",
            "1          608       0  ...                  0                1\n",
            "2          502       0  ...                  0                0\n",
            "3          699       0  ...                  0                0\n",
            "4          850       0  ...                  0                1\n",
            "\n",
            "[5 rows x 13 columns]\n"
          ],
          "name": "stdout"
        }
      ]
    },
    {
      "cell_type": "code",
      "metadata": {
        "id": "fQDpsZXqfygG",
        "colab_type": "code",
        "colab": {
          "base_uri": "https://localhost:8080/",
          "height": 162
        },
        "outputId": "03a2fade-c285-4a0a-a693-5501e7b19023"
      },
      "source": [
        "churn_dataset.head(3)"
      ],
      "execution_count": 29,
      "outputs": [
        {
          "output_type": "execute_result",
          "data": {
            "text/html": [
              "<div>\n",
              "<style scoped>\n",
              "    .dataframe tbody tr th:only-of-type {\n",
              "        vertical-align: middle;\n",
              "    }\n",
              "\n",
              "    .dataframe tbody tr th {\n",
              "        vertical-align: top;\n",
              "    }\n",
              "\n",
              "    .dataframe thead th {\n",
              "        text-align: right;\n",
              "    }\n",
              "</style>\n",
              "<table border=\"1\" class=\"dataframe\">\n",
              "  <thead>\n",
              "    <tr style=\"text-align: right;\">\n",
              "      <th></th>\n",
              "      <th>CreditScore</th>\n",
              "      <th>Gender</th>\n",
              "      <th>Age</th>\n",
              "      <th>Tenure</th>\n",
              "      <th>Balance</th>\n",
              "      <th>NumOfProducts</th>\n",
              "      <th>HasCrCard</th>\n",
              "      <th>IsActiveMember</th>\n",
              "      <th>EstimatedSalary</th>\n",
              "      <th>Exited</th>\n",
              "      <th>Geography_France</th>\n",
              "      <th>Geography_Germany</th>\n",
              "      <th>Geography_Spain</th>\n",
              "    </tr>\n",
              "  </thead>\n",
              "  <tbody>\n",
              "    <tr>\n",
              "      <th>0</th>\n",
              "      <td>619</td>\n",
              "      <td>0</td>\n",
              "      <td>42</td>\n",
              "      <td>2</td>\n",
              "      <td>0.00</td>\n",
              "      <td>1</td>\n",
              "      <td>1</td>\n",
              "      <td>1</td>\n",
              "      <td>101348.88</td>\n",
              "      <td>1</td>\n",
              "      <td>1</td>\n",
              "      <td>0</td>\n",
              "      <td>0</td>\n",
              "    </tr>\n",
              "    <tr>\n",
              "      <th>1</th>\n",
              "      <td>608</td>\n",
              "      <td>0</td>\n",
              "      <td>41</td>\n",
              "      <td>1</td>\n",
              "      <td>83807.86</td>\n",
              "      <td>1</td>\n",
              "      <td>0</td>\n",
              "      <td>1</td>\n",
              "      <td>112542.58</td>\n",
              "      <td>0</td>\n",
              "      <td>0</td>\n",
              "      <td>0</td>\n",
              "      <td>1</td>\n",
              "    </tr>\n",
              "    <tr>\n",
              "      <th>2</th>\n",
              "      <td>502</td>\n",
              "      <td>0</td>\n",
              "      <td>42</td>\n",
              "      <td>8</td>\n",
              "      <td>159660.80</td>\n",
              "      <td>3</td>\n",
              "      <td>1</td>\n",
              "      <td>0</td>\n",
              "      <td>113931.57</td>\n",
              "      <td>1</td>\n",
              "      <td>1</td>\n",
              "      <td>0</td>\n",
              "      <td>0</td>\n",
              "    </tr>\n",
              "  </tbody>\n",
              "</table>\n",
              "</div>"
            ],
            "text/plain": [
              "   CreditScore  Gender  ...  Geography_Germany  Geography_Spain\n",
              "0          619       0  ...                  0                0\n",
              "1          608       0  ...                  0                1\n",
              "2          502       0  ...                  0                0\n",
              "\n",
              "[3 rows x 13 columns]"
            ]
          },
          "metadata": {
            "tags": []
          },
          "execution_count": 29
        }
      ]
    },
    {
      "cell_type": "code",
      "metadata": {
        "id": "d-iOYim7Pcpr",
        "colab_type": "code",
        "colab": {
          "base_uri": "https://localhost:8080/",
          "height": 162
        },
        "outputId": "c02a8692-7cd9-4bdb-f68c-2d03e9d7ec0f"
      },
      "source": [
        "#Creating dependent and independent variables\n",
        "X=churn_dataset[['Age','Gender','CreditScore','Tenure','Balance','NumOfProducts','HasCrCard','IsActiveMember','EstimatedSalary','Geography_France','Geography_Germany','Geography_Spain']]\n",
        "X.head(3)"
      ],
      "execution_count": 30,
      "outputs": [
        {
          "output_type": "execute_result",
          "data": {
            "text/html": [
              "<div>\n",
              "<style scoped>\n",
              "    .dataframe tbody tr th:only-of-type {\n",
              "        vertical-align: middle;\n",
              "    }\n",
              "\n",
              "    .dataframe tbody tr th {\n",
              "        vertical-align: top;\n",
              "    }\n",
              "\n",
              "    .dataframe thead th {\n",
              "        text-align: right;\n",
              "    }\n",
              "</style>\n",
              "<table border=\"1\" class=\"dataframe\">\n",
              "  <thead>\n",
              "    <tr style=\"text-align: right;\">\n",
              "      <th></th>\n",
              "      <th>Age</th>\n",
              "      <th>Gender</th>\n",
              "      <th>CreditScore</th>\n",
              "      <th>Tenure</th>\n",
              "      <th>Balance</th>\n",
              "      <th>NumOfProducts</th>\n",
              "      <th>HasCrCard</th>\n",
              "      <th>IsActiveMember</th>\n",
              "      <th>EstimatedSalary</th>\n",
              "      <th>Geography_France</th>\n",
              "      <th>Geography_Germany</th>\n",
              "      <th>Geography_Spain</th>\n",
              "    </tr>\n",
              "  </thead>\n",
              "  <tbody>\n",
              "    <tr>\n",
              "      <th>0</th>\n",
              "      <td>42</td>\n",
              "      <td>0</td>\n",
              "      <td>619</td>\n",
              "      <td>2</td>\n",
              "      <td>0.00</td>\n",
              "      <td>1</td>\n",
              "      <td>1</td>\n",
              "      <td>1</td>\n",
              "      <td>101348.88</td>\n",
              "      <td>1</td>\n",
              "      <td>0</td>\n",
              "      <td>0</td>\n",
              "    </tr>\n",
              "    <tr>\n",
              "      <th>1</th>\n",
              "      <td>41</td>\n",
              "      <td>0</td>\n",
              "      <td>608</td>\n",
              "      <td>1</td>\n",
              "      <td>83807.86</td>\n",
              "      <td>1</td>\n",
              "      <td>0</td>\n",
              "      <td>1</td>\n",
              "      <td>112542.58</td>\n",
              "      <td>0</td>\n",
              "      <td>0</td>\n",
              "      <td>1</td>\n",
              "    </tr>\n",
              "    <tr>\n",
              "      <th>2</th>\n",
              "      <td>42</td>\n",
              "      <td>0</td>\n",
              "      <td>502</td>\n",
              "      <td>8</td>\n",
              "      <td>159660.80</td>\n",
              "      <td>3</td>\n",
              "      <td>1</td>\n",
              "      <td>0</td>\n",
              "      <td>113931.57</td>\n",
              "      <td>1</td>\n",
              "      <td>0</td>\n",
              "      <td>0</td>\n",
              "    </tr>\n",
              "  </tbody>\n",
              "</table>\n",
              "</div>"
            ],
            "text/plain": [
              "   Age  Gender  ...  Geography_Germany  Geography_Spain\n",
              "0   42       0  ...                  0                0\n",
              "1   41       0  ...                  0                1\n",
              "2   42       0  ...                  0                0\n",
              "\n",
              "[3 rows x 12 columns]"
            ]
          },
          "metadata": {
            "tags": []
          },
          "execution_count": 30
        }
      ]
    },
    {
      "cell_type": "code",
      "metadata": {
        "id": "Dsd9DB9rby-3",
        "colab_type": "code",
        "colab": {
          "base_uri": "https://localhost:8080/",
          "height": 221
        },
        "outputId": "9e5f0867-9955-4fec-f3a1-594a75530356"
      },
      "source": [
        "y=churn_dataset['Exited']\n",
        "y"
      ],
      "execution_count": 31,
      "outputs": [
        {
          "output_type": "execute_result",
          "data": {
            "text/plain": [
              "0       1\n",
              "1       0\n",
              "2       1\n",
              "3       0\n",
              "4       0\n",
              "       ..\n",
              "9995    0\n",
              "9996    0\n",
              "9997    1\n",
              "9998    1\n",
              "9999    0\n",
              "Name: Exited, Length: 10000, dtype: int64"
            ]
          },
          "metadata": {
            "tags": []
          },
          "execution_count": 31
        }
      ]
    },
    {
      "cell_type": "markdown",
      "metadata": {
        "id": "Y0GmpAjG3GiH",
        "colab_type": "text"
      },
      "source": [
        "# TASK #4: CREATE TESTING AND TRAINING DATASET & PERFORM DATA CLEANING"
      ]
    },
    {
      "cell_type": "markdown",
      "metadata": {
        "id": "JQ28BD4E3mD6",
        "colab_type": "text"
      },
      "source": [
        "##Splitting into Training Set and Test Set"
      ]
    },
    {
      "cell_type": "code",
      "metadata": {
        "id": "FK5ggiVPsJE9",
        "colab_type": "code",
        "colab": {}
      },
      "source": [
        "from sklearn.model_selection import train_test_split\n",
        "X_train,X_test,y_train,y_test=train_test_split(X,y,test_size=0.3,random_state=0)"
      ],
      "execution_count": 32,
      "outputs": []
    },
    {
      "cell_type": "markdown",
      "metadata": {
        "id": "MticbvGu3wBD",
        "colab_type": "text"
      },
      "source": [
        "##Feature Scaling"
      ]
    },
    {
      "cell_type": "code",
      "metadata": {
        "id": "1_nb-D8H3cK-",
        "colab_type": "code",
        "colab": {}
      },
      "source": [
        "from sklearn.preprocessing import StandardScaler\n",
        "scaler = StandardScaler()\n",
        "X_train = scaler.fit_transform(X_train)\n",
        "X_test = scaler.transform(X_test)"
      ],
      "execution_count": 33,
      "outputs": []
    },
    {
      "cell_type": "markdown",
      "metadata": {
        "id": "IXtiyOef51hv",
        "colab_type": "text"
      },
      "source": [
        "##Building ANN"
      ]
    },
    {
      "cell_type": "code",
      "metadata": {
        "id": "nWRIDQWquc2m",
        "colab_type": "code",
        "colab": {}
      },
      "source": [
        "import tensorflow as tf"
      ],
      "execution_count": 34,
      "outputs": []
    },
    {
      "cell_type": "markdown",
      "metadata": {
        "id": "0nSDDMw_6SpI",
        "colab_type": "text"
      },
      "source": [
        "##Initialising ANN"
      ]
    },
    {
      "cell_type": "code",
      "metadata": {
        "id": "3sc6kz_oucxq",
        "colab_type": "code",
        "colab": {}
      },
      "source": [
        "ann=tf.keras.models.Sequential() "
      ],
      "execution_count": 35,
      "outputs": []
    },
    {
      "cell_type": "markdown",
      "metadata": {
        "id": "o89AYlaw9yc5",
        "colab_type": "text"
      },
      "source": [
        "##Adding layers"
      ]
    },
    {
      "cell_type": "code",
      "metadata": {
        "id": "_2iF77wCu79A",
        "colab_type": "code",
        "colab": {}
      },
      "source": [
        "ann.add(tf.keras.layers.Dense(units=60, activation='relu'))\n",
        "ann.add(tf.keras.layers.Dense(units=60, activation='relu'))"
      ],
      "execution_count": 36,
      "outputs": []
    },
    {
      "cell_type": "markdown",
      "metadata": {
        "id": "Xg055lDO94YZ",
        "colab_type": "text"
      },
      "source": [
        "##Adding output layer"
      ]
    },
    {
      "cell_type": "code",
      "metadata": {
        "id": "7EucHJDH0wf0",
        "colab_type": "code",
        "colab": {}
      },
      "source": [
        "ann.add(tf.keras.layers.Dense(units=1, activation='sigmoid'))"
      ],
      "execution_count": 37,
      "outputs": []
    },
    {
      "cell_type": "markdown",
      "metadata": {
        "id": "J1SxWD8p-cMA",
        "colab_type": "text"
      },
      "source": [
        "##Complile the ANN"
      ]
    },
    {
      "cell_type": "code",
      "metadata": {
        "id": "uZxWTuLp0wdW",
        "colab_type": "code",
        "colab": {}
      },
      "source": [
        "ann.compile(optimizer='Adam', loss='binary_crossentropy', metrics = ['accuracy'])"
      ],
      "execution_count": 38,
      "outputs": []
    },
    {
      "cell_type": "markdown",
      "metadata": {
        "id": "pQF5-_OW_bdX",
        "colab_type": "text"
      },
      "source": [
        "##Training ANN on training set"
      ]
    },
    {
      "cell_type": "code",
      "metadata": {
        "id": "Wf_G8A_G1l2c",
        "colab_type": "code",
        "colab": {
          "base_uri": "https://localhost:8080/",
          "height": 1000
        },
        "outputId": "493833a4-1142-4d42-fe1c-a980ccdb1e92"
      },
      "source": [
        "ann.fit(X_train,y_train,batch_size=32,epochs=100)"
      ],
      "execution_count": 39,
      "outputs": [
        {
          "output_type": "stream",
          "text": [
            "Epoch 1/100\n",
            "219/219 [==============================] - 0s 1ms/step - loss: 0.4595 - accuracy: 0.7924\n",
            "Epoch 2/100\n",
            "219/219 [==============================] - 0s 1ms/step - loss: 0.3920 - accuracy: 0.8353\n",
            "Epoch 3/100\n",
            "219/219 [==============================] - 0s 1ms/step - loss: 0.3588 - accuracy: 0.8534\n",
            "Epoch 4/100\n",
            "219/219 [==============================] - 0s 1ms/step - loss: 0.3457 - accuracy: 0.8570\n",
            "Epoch 5/100\n",
            "219/219 [==============================] - 0s 1ms/step - loss: 0.3414 - accuracy: 0.8571\n",
            "Epoch 6/100\n",
            "219/219 [==============================] - 0s 1ms/step - loss: 0.3378 - accuracy: 0.8610\n",
            "Epoch 7/100\n",
            "219/219 [==============================] - 0s 1ms/step - loss: 0.3342 - accuracy: 0.8646\n",
            "Epoch 8/100\n",
            "219/219 [==============================] - 0s 1ms/step - loss: 0.3308 - accuracy: 0.8644\n",
            "Epoch 9/100\n",
            "219/219 [==============================] - 0s 1ms/step - loss: 0.3274 - accuracy: 0.8676\n",
            "Epoch 10/100\n",
            "219/219 [==============================] - 0s 1ms/step - loss: 0.3265 - accuracy: 0.8657\n",
            "Epoch 11/100\n",
            "219/219 [==============================] - 0s 1ms/step - loss: 0.3241 - accuracy: 0.8660\n",
            "Epoch 12/100\n",
            "219/219 [==============================] - 0s 1ms/step - loss: 0.3217 - accuracy: 0.8680\n",
            "Epoch 13/100\n",
            "219/219 [==============================] - 0s 1ms/step - loss: 0.3174 - accuracy: 0.8700\n",
            "Epoch 14/100\n",
            "219/219 [==============================] - 0s 1ms/step - loss: 0.3156 - accuracy: 0.8696\n",
            "Epoch 15/100\n",
            "219/219 [==============================] - 0s 1ms/step - loss: 0.3141 - accuracy: 0.8693\n",
            "Epoch 16/100\n",
            "219/219 [==============================] - 0s 1ms/step - loss: 0.3126 - accuracy: 0.8687\n",
            "Epoch 17/100\n",
            "219/219 [==============================] - 0s 1ms/step - loss: 0.3104 - accuracy: 0.8716\n",
            "Epoch 18/100\n",
            "219/219 [==============================] - 0s 1ms/step - loss: 0.3088 - accuracy: 0.8734\n",
            "Epoch 19/100\n",
            "219/219 [==============================] - 0s 1ms/step - loss: 0.3062 - accuracy: 0.8754\n",
            "Epoch 20/100\n",
            "219/219 [==============================] - 0s 1ms/step - loss: 0.3046 - accuracy: 0.8740\n",
            "Epoch 21/100\n",
            "219/219 [==============================] - 0s 1ms/step - loss: 0.3032 - accuracy: 0.8749\n",
            "Epoch 22/100\n",
            "219/219 [==============================] - 0s 1ms/step - loss: 0.3007 - accuracy: 0.8734\n",
            "Epoch 23/100\n",
            "219/219 [==============================] - 0s 1ms/step - loss: 0.3007 - accuracy: 0.8749\n",
            "Epoch 24/100\n",
            "219/219 [==============================] - 0s 1ms/step - loss: 0.2985 - accuracy: 0.8753\n",
            "Epoch 25/100\n",
            "219/219 [==============================] - 0s 1ms/step - loss: 0.2972 - accuracy: 0.8760\n",
            "Epoch 26/100\n",
            "219/219 [==============================] - 0s 1ms/step - loss: 0.2953 - accuracy: 0.8761\n",
            "Epoch 27/100\n",
            "219/219 [==============================] - 0s 1ms/step - loss: 0.2945 - accuracy: 0.8767\n",
            "Epoch 28/100\n",
            "219/219 [==============================] - 0s 1ms/step - loss: 0.2925 - accuracy: 0.8784\n",
            "Epoch 29/100\n",
            "219/219 [==============================] - 0s 1ms/step - loss: 0.2910 - accuracy: 0.8776\n",
            "Epoch 30/100\n",
            "219/219 [==============================] - 0s 1ms/step - loss: 0.2895 - accuracy: 0.8816\n",
            "Epoch 31/100\n",
            "219/219 [==============================] - 0s 1ms/step - loss: 0.2882 - accuracy: 0.8826\n",
            "Epoch 32/100\n",
            "219/219 [==============================] - 0s 1ms/step - loss: 0.2867 - accuracy: 0.8780\n",
            "Epoch 33/100\n",
            "219/219 [==============================] - 0s 1ms/step - loss: 0.2842 - accuracy: 0.8830\n",
            "Epoch 34/100\n",
            "219/219 [==============================] - 0s 1ms/step - loss: 0.2837 - accuracy: 0.8817\n",
            "Epoch 35/100\n",
            "219/219 [==============================] - 0s 1ms/step - loss: 0.2809 - accuracy: 0.8810\n",
            "Epoch 36/100\n",
            "219/219 [==============================] - 0s 1ms/step - loss: 0.2814 - accuracy: 0.8806\n",
            "Epoch 37/100\n",
            "219/219 [==============================] - 0s 1ms/step - loss: 0.2797 - accuracy: 0.8816\n",
            "Epoch 38/100\n",
            "219/219 [==============================] - 0s 1ms/step - loss: 0.2785 - accuracy: 0.8823\n",
            "Epoch 39/100\n",
            "219/219 [==============================] - 0s 1ms/step - loss: 0.2753 - accuracy: 0.8829\n",
            "Epoch 40/100\n",
            "219/219 [==============================] - 0s 1ms/step - loss: 0.2764 - accuracy: 0.8841\n",
            "Epoch 41/100\n",
            "219/219 [==============================] - 0s 1ms/step - loss: 0.2737 - accuracy: 0.8840\n",
            "Epoch 42/100\n",
            "219/219 [==============================] - 0s 1ms/step - loss: 0.2714 - accuracy: 0.8860\n",
            "Epoch 43/100\n",
            "219/219 [==============================] - 0s 1ms/step - loss: 0.2733 - accuracy: 0.8824\n",
            "Epoch 44/100\n",
            "219/219 [==============================] - 0s 1ms/step - loss: 0.2693 - accuracy: 0.8873\n",
            "Epoch 45/100\n",
            "219/219 [==============================] - 0s 1ms/step - loss: 0.2682 - accuracy: 0.8880\n",
            "Epoch 46/100\n",
            "219/219 [==============================] - 0s 1ms/step - loss: 0.2659 - accuracy: 0.8864\n",
            "Epoch 47/100\n",
            "219/219 [==============================] - 0s 1ms/step - loss: 0.2667 - accuracy: 0.8890\n",
            "Epoch 48/100\n",
            "219/219 [==============================] - 0s 1ms/step - loss: 0.2652 - accuracy: 0.8876\n",
            "Epoch 49/100\n",
            "219/219 [==============================] - 0s 1ms/step - loss: 0.2622 - accuracy: 0.8903\n",
            "Epoch 50/100\n",
            "219/219 [==============================] - 0s 1ms/step - loss: 0.2618 - accuracy: 0.8901\n",
            "Epoch 51/100\n",
            "219/219 [==============================] - 0s 1ms/step - loss: 0.2617 - accuracy: 0.8886\n",
            "Epoch 52/100\n",
            "219/219 [==============================] - 0s 1ms/step - loss: 0.2615 - accuracy: 0.8883\n",
            "Epoch 53/100\n",
            "219/219 [==============================] - 0s 1ms/step - loss: 0.2581 - accuracy: 0.8937\n",
            "Epoch 54/100\n",
            "219/219 [==============================] - 0s 1ms/step - loss: 0.2573 - accuracy: 0.8909\n",
            "Epoch 55/100\n",
            "219/219 [==============================] - 0s 1ms/step - loss: 0.2563 - accuracy: 0.8886\n",
            "Epoch 56/100\n",
            "219/219 [==============================] - 0s 1ms/step - loss: 0.2533 - accuracy: 0.8923\n",
            "Epoch 57/100\n",
            "219/219 [==============================] - 0s 1ms/step - loss: 0.2523 - accuracy: 0.8944\n",
            "Epoch 58/100\n",
            "219/219 [==============================] - 0s 1ms/step - loss: 0.2507 - accuracy: 0.8940\n",
            "Epoch 59/100\n",
            "219/219 [==============================] - 0s 1ms/step - loss: 0.2501 - accuracy: 0.8957\n",
            "Epoch 60/100\n",
            "219/219 [==============================] - 0s 1ms/step - loss: 0.2502 - accuracy: 0.8953\n",
            "Epoch 61/100\n",
            "219/219 [==============================] - 0s 1ms/step - loss: 0.2487 - accuracy: 0.8949\n",
            "Epoch 62/100\n",
            "219/219 [==============================] - 0s 1ms/step - loss: 0.2486 - accuracy: 0.8910\n",
            "Epoch 63/100\n",
            "219/219 [==============================] - 0s 1ms/step - loss: 0.2446 - accuracy: 0.8986\n",
            "Epoch 64/100\n",
            "219/219 [==============================] - 0s 1ms/step - loss: 0.2443 - accuracy: 0.8917\n",
            "Epoch 65/100\n",
            "219/219 [==============================] - 0s 1ms/step - loss: 0.2440 - accuracy: 0.8957\n",
            "Epoch 66/100\n",
            "219/219 [==============================] - 0s 1ms/step - loss: 0.2427 - accuracy: 0.8991\n",
            "Epoch 67/100\n",
            "219/219 [==============================] - 0s 1ms/step - loss: 0.2407 - accuracy: 0.8986\n",
            "Epoch 68/100\n",
            "219/219 [==============================] - 0s 1ms/step - loss: 0.2381 - accuracy: 0.8996\n",
            "Epoch 69/100\n",
            "219/219 [==============================] - 0s 1ms/step - loss: 0.2382 - accuracy: 0.8987\n",
            "Epoch 70/100\n",
            "219/219 [==============================] - 0s 1ms/step - loss: 0.2368 - accuracy: 0.8990\n",
            "Epoch 71/100\n",
            "219/219 [==============================] - 0s 1ms/step - loss: 0.2345 - accuracy: 0.9006\n",
            "Epoch 72/100\n",
            "219/219 [==============================] - 0s 1ms/step - loss: 0.2346 - accuracy: 0.8981\n",
            "Epoch 73/100\n",
            "219/219 [==============================] - 0s 1ms/step - loss: 0.2336 - accuracy: 0.9030\n",
            "Epoch 74/100\n",
            "219/219 [==============================] - 0s 1ms/step - loss: 0.2321 - accuracy: 0.8983\n",
            "Epoch 75/100\n",
            "219/219 [==============================] - 0s 1ms/step - loss: 0.2315 - accuracy: 0.8997\n",
            "Epoch 76/100\n",
            "219/219 [==============================] - 0s 1ms/step - loss: 0.2303 - accuracy: 0.9004\n",
            "Epoch 77/100\n",
            "219/219 [==============================] - 0s 1ms/step - loss: 0.2295 - accuracy: 0.9034\n",
            "Epoch 78/100\n",
            "219/219 [==============================] - 0s 1ms/step - loss: 0.2288 - accuracy: 0.9031\n",
            "Epoch 79/100\n",
            "219/219 [==============================] - 0s 1ms/step - loss: 0.2253 - accuracy: 0.9043\n",
            "Epoch 80/100\n",
            "219/219 [==============================] - 0s 1ms/step - loss: 0.2255 - accuracy: 0.9044\n",
            "Epoch 81/100\n",
            "219/219 [==============================] - 0s 1ms/step - loss: 0.2225 - accuracy: 0.9049\n",
            "Epoch 82/100\n",
            "219/219 [==============================] - 0s 1ms/step - loss: 0.2238 - accuracy: 0.9069\n",
            "Epoch 83/100\n",
            "219/219 [==============================] - 0s 1ms/step - loss: 0.2218 - accuracy: 0.9053\n",
            "Epoch 84/100\n",
            "219/219 [==============================] - 0s 1ms/step - loss: 0.2217 - accuracy: 0.9056\n",
            "Epoch 85/100\n",
            "219/219 [==============================] - 0s 1ms/step - loss: 0.2200 - accuracy: 0.9071\n",
            "Epoch 86/100\n",
            "219/219 [==============================] - 0s 1ms/step - loss: 0.2197 - accuracy: 0.9080\n",
            "Epoch 87/100\n",
            "219/219 [==============================] - 0s 1ms/step - loss: 0.2174 - accuracy: 0.9039\n",
            "Epoch 88/100\n",
            "219/219 [==============================] - 0s 1ms/step - loss: 0.2172 - accuracy: 0.9070\n",
            "Epoch 89/100\n",
            "219/219 [==============================] - 0s 1ms/step - loss: 0.2158 - accuracy: 0.9081\n",
            "Epoch 90/100\n",
            "219/219 [==============================] - 0s 1ms/step - loss: 0.2125 - accuracy: 0.9096\n",
            "Epoch 91/100\n",
            "219/219 [==============================] - 0s 1ms/step - loss: 0.2141 - accuracy: 0.9074\n",
            "Epoch 92/100\n",
            "219/219 [==============================] - 0s 1ms/step - loss: 0.2129 - accuracy: 0.9087\n",
            "Epoch 93/100\n",
            "219/219 [==============================] - 0s 1ms/step - loss: 0.2127 - accuracy: 0.9093\n",
            "Epoch 94/100\n",
            "219/219 [==============================] - 0s 1ms/step - loss: 0.2131 - accuracy: 0.9096\n",
            "Epoch 95/100\n",
            "219/219 [==============================] - 0s 1ms/step - loss: 0.2097 - accuracy: 0.9086\n",
            "Epoch 96/100\n",
            "219/219 [==============================] - 0s 1ms/step - loss: 0.2086 - accuracy: 0.9113\n",
            "Epoch 97/100\n",
            "219/219 [==============================] - 0s 1ms/step - loss: 0.2099 - accuracy: 0.9097\n",
            "Epoch 98/100\n",
            "219/219 [==============================] - 0s 1ms/step - loss: 0.2055 - accuracy: 0.9119\n",
            "Epoch 99/100\n",
            "219/219 [==============================] - 0s 1ms/step - loss: 0.2054 - accuracy: 0.9126\n",
            "Epoch 100/100\n",
            "219/219 [==============================] - 0s 1ms/step - loss: 0.2035 - accuracy: 0.9143\n"
          ],
          "name": "stdout"
        },
        {
          "output_type": "execute_result",
          "data": {
            "text/plain": [
              "<tensorflow.python.keras.callbacks.History at 0x7fbd2f0aaef0>"
            ]
          },
          "metadata": {
            "tags": []
          },
          "execution_count": 39
        }
      ]
    },
    {
      "cell_type": "markdown",
      "metadata": {
        "id": "c24AHt1AvwwJ",
        "colab_type": "text"
      },
      "source": [
        "##Predicting the Test Set"
      ]
    },
    {
      "cell_type": "code",
      "metadata": {
        "id": "ASEus5N81Zq8",
        "colab_type": "code",
        "colab": {}
      },
      "source": [
        "y_pred=ann.predict(X_test)\n",
        "y_pred = (y_pred > 0.5)"
      ],
      "execution_count": 40,
      "outputs": []
    },
    {
      "cell_type": "code",
      "metadata": {
        "id": "hYmo6fTcDGeC",
        "colab_type": "code",
        "colab": {
          "base_uri": "https://localhost:8080/",
          "height": 136
        },
        "outputId": "0fd10259-85fd-46d6-aa73-4723fe551f4c"
      },
      "source": [
        "print(y_pred)"
      ],
      "execution_count": 41,
      "outputs": [
        {
          "output_type": "stream",
          "text": [
            "[[ True]\n",
            " [False]\n",
            " [False]\n",
            " ...\n",
            " [False]\n",
            " [False]\n",
            " [ True]]\n"
          ],
          "name": "stdout"
        }
      ]
    },
    {
      "cell_type": "code",
      "metadata": {
        "id": "mS1LQs-ZHJ-7",
        "colab_type": "code",
        "colab": {
          "base_uri": "https://localhost:8080/",
          "height": 34
        },
        "outputId": "a7c0100a-d281-4d15-98bd-94b330667701"
      },
      "source": [
        "y_test=y_test.to_numpy()\n",
        "y_test"
      ],
      "execution_count": 45,
      "outputs": [
        {
          "output_type": "execute_result",
          "data": {
            "text/plain": [
              "array([0, 1, 0, ..., 0, 0, 1])"
            ]
          },
          "metadata": {
            "tags": []
          },
          "execution_count": 45
        }
      ]
    },
    {
      "cell_type": "code",
      "metadata": {
        "id": "RVJZ_TMKFNJK",
        "colab_type": "code",
        "colab": {
          "base_uri": "https://localhost:8080/",
          "height": 136
        },
        "outputId": "a4143d74-2f89-4c41-c002-16a82245649f"
      },
      "source": [
        "print(np.concatenate((y_pred.reshape(len(y_pred),1), y_test.reshape(len(y_test),1)),1))"
      ],
      "execution_count": 46,
      "outputs": [
        {
          "output_type": "stream",
          "text": [
            "[[1 0]\n",
            " [0 1]\n",
            " [0 0]\n",
            " ...\n",
            " [0 0]\n",
            " [0 0]\n",
            " [1 1]]\n"
          ],
          "name": "stdout"
        }
      ]
    },
    {
      "cell_type": "markdown",
      "metadata": {
        "id": "GJTu0T45v3yV",
        "colab_type": "text"
      },
      "source": [
        "##Confusion Matrix"
      ]
    },
    {
      "cell_type": "code",
      "metadata": {
        "id": "0bZC2UdWvNxa",
        "colab_type": "code",
        "colab": {
          "base_uri": "https://localhost:8080/",
          "height": 51
        },
        "outputId": "a1048639-8c04-4cfc-d52d-a4818a28586c"
      },
      "source": [
        "from sklearn.metrics import confusion_matrix\n",
        "confusion_matrix(y_test, y_pred)"
      ],
      "execution_count": 47,
      "outputs": [
        {
          "output_type": "execute_result",
          "data": {
            "text/plain": [
              "array([[2204,  175],\n",
              "       [ 301,  320]])"
            ]
          },
          "metadata": {
            "tags": []
          },
          "execution_count": 47
        }
      ]
    },
    {
      "cell_type": "markdown",
      "metadata": {
        "id": "BfFqRSwZx3sp",
        "colab_type": "text"
      },
      "source": [
        "##Accuracy Score"
      ]
    },
    {
      "cell_type": "code",
      "metadata": {
        "id": "s5woMBAzx69S",
        "colab_type": "code",
        "colab": {
          "base_uri": "https://localhost:8080/",
          "height": 34
        },
        "outputId": "3b9ab089-57b7-431d-c9ea-1173e830a4b4"
      },
      "source": [
        "from sklearn.metrics import accuracy_score\n",
        "accuracy_score(y_test, y_pred)"
      ],
      "execution_count": 48,
      "outputs": [
        {
          "output_type": "execute_result",
          "data": {
            "text/plain": [
              "0.8413333333333334"
            ]
          },
          "metadata": {
            "tags": []
          },
          "execution_count": 48
        }
      ]
    }
  ]
}